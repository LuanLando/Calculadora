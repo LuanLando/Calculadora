{
 "cells": [
  {
   "cell_type": "code",
   "execution_count": 10,
   "metadata": {},
   "outputs": [
    {
     "name": "stdout",
     "output_type": "stream",
     "text": [
      "Escolha qual operação deseja fazer com seus números:\n",
      "1 - Adição\n",
      "2 - Subtração\n",
      "3 - Multiplicação\n",
      "4 - Divisão\n",
      "Encerrar - Para encerrar a calculadora\n",
      "Resultado: 1.0 + 1.0 = 2.0\n",
      "Escolha qual operação deseja fazer com seus números:\n",
      "1 - Adição\n",
      "2 - Subtração\n",
      "3 - Multiplicação\n",
      "4 - Divisão\n",
      "Encerrar - Para encerrar a calculadora\n",
      "Resultado: 1.0 * 2.0 = 2.0\n",
      "Desligando a Calculadora.\n"
     ]
    }
   ],
   "source": [
    "while True:\n",
    "    # Números que o usuário irá escolher\n",
    "    num1 = float(input('Escolha um número: '))\n",
    "    num2 = float(input('Escolha outro número: '))\n",
    "\n",
    "    # Opções da calculadora \n",
    "    print('Escolha qual operação deseja fazer com seus números:')\n",
    "    print('1 - Adição')\n",
    "    print('2 - Subtração')\n",
    "    print('3 - Multiplicação')\n",
    "    print('4 - Divisão')\n",
    "    print('Encerrar - Para encerrar a calculadora')\n",
    "\n",
    "    # Professor escolheu:\n",
    "    escolheu = input('Digite aqui qual operação deseja: ').lower()\n",
    "\n",
    "    if escolheu == 'encerrar':\n",
    "        print('Encerrando a calculadora.')\n",
    "        break\n",
    "\n",
    "    # Calculando...\n",
    "    if escolheu == '1':\n",
    "        resultado = num1 + num2\n",
    "        print(f'Resultado: {num1} + {num2} = {resultado}')\n",
    "    elif escolheu == '2':\n",
    "        resultado = num1 - num2\n",
    "        print(f'Resultado: {num1} - {num2} = {resultado}')\n",
    "    elif escolheu == '3':\n",
    "        resultado = num1 * num2\n",
    "        print(f'Resultado: {num1} * {num2} = {resultado}')\n",
    "    elif escolheu == '4':\n",
    "        if num2 != 0:\n",
    "            resultado = num1 / num2\n",
    "            print(f'Resultado: {num1} / {num2} = {resultado}')\n",
    "        else:\n",
    "            print('Erro: Divisão por zero não é permitida.')\n",
    "    else:\n",
    "        print('Operação inválida, tente novamente.')\n",
    "\n",
    "    # Pergunta se o usuário deseja continuar\n",
    "    continuar = input('Deseja realizar outra operação? (sim/nao): ').lower()\n",
    "    if continuar != 'sim':\n",
    "        print('Desligando a Calculadora.')\n",
    "        break\n"
   ]
  }
 ],
 "metadata": {
  "kernelspec": {
   "display_name": "Python 3",
   "language": "python",
   "name": "python3"
  },
  "language_info": {
   "codemirror_mode": {
    "name": "ipython",
    "version": 3
   },
   "file_extension": ".py",
   "mimetype": "text/x-python",
   "name": "python",
   "nbconvert_exporter": "python",
   "pygments_lexer": "ipython3",
   "version": "3.13.0"
  }
 },
 "nbformat": 4,
 "nbformat_minor": 2
}
